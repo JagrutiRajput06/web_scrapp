{
 "cells": [
  {
   "cell_type": "code",
   "execution_count": null,
   "id": "fe647f37",
   "metadata": {},
   "outputs": [],
   "source": [
    "from bs4 import BeautifulSoup\n",
    "import requests\n",
    "import pandas as pd\n",
    "import sqlite3\n",
    "\n",
    "\n",
    "\n"
   ]
  },
  {
   "cell_type": "code",
   "execution_count": null,
   "id": "12ebbad4",
   "metadata": {},
   "outputs": [],
   "source": [
    "conn = sqlite3.connect('essays.db')\n",
    "c=conn.cursor()\n",
    "\n",
    "\n",
    "#c.execute(''' CREATE TABLE info(Article_Name TEXT, Url TEXT)''')\n",
    "\n",
    "html_text=requests.get('http://www.paulgraham.com/articles.html').text\n",
    "    #print(html_text)\n",
    "soup = BeautifulSoup(html_text, 'lxml')\n",
    "articles = soup.find_all('font',face='verdana')\n",
    "    #print(article)\n",
    "for index, article in enumerate(articles):\n",
    "      article_name = article.find('a').text\n",
    "      article_ref = article.a['href']\n",
    "        #print(article_name)\n",
    "      c.execute('''INSERT INTO info VALUES(?,?)''',(article_name.strip(),article_ref))\n",
    "      #print(f\"Article Name : {article_name.strip()}\")\n",
    "      #print(f\"URL : {article_ref}\\n\")\n",
    "\n",
    "\n",
    "conn.commit()\n",
    "print('complete.')\n",
    "\n",
    "\n",
    "c.execute('''SELECT * FROM info''')\n",
    "results=c.fetchall()\n",
    "print(len(results))\n",
    "print(results)"
   ]
  },
  {
   "cell_type": "code",
   "execution_count": null,
   "id": "e6afeca7",
   "metadata": {},
   "outputs": [],
   "source": [
    "c.execute('''SELECT article_name FROM info''')\n",
    "name=c.fetchall()\n",
    "print(name)"
   ]
  },
  {
   "cell_type": "code",
   "execution_count": null,
   "id": "9dd93631",
   "metadata": {},
   "outputs": [],
   "source": [
    "c.execute('''SELECT url FROM info''')\n",
    "name=c.fetchall()\n",
    "print(name)\n"
   ]
  },
  {
   "cell_type": "code",
   "execution_count": null,
   "id": "21fd94e9",
   "metadata": {},
   "outputs": [],
   "source": [
    "conn.close()"
   ]
  }
 ],
 "metadata": {
  "kernelspec": {
   "display_name": "Python 3 (ipykernel)",
   "language": "python",
   "name": "python3"
  },
  "language_info": {
   "codemirror_mode": {
    "name": "ipython",
    "version": 3
   },
   "file_extension": ".py",
   "mimetype": "text/x-python",
   "name": "python",
   "nbconvert_exporter": "python",
   "pygments_lexer": "ipython3",
   "version": "3.10.4"
  }
 },
 "nbformat": 4,
 "nbformat_minor": 5
}
